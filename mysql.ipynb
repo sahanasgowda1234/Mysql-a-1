{
 "cells": [
  {
   "cell_type": "code",
   "execution_count": null,
   "id": "248e66e1",
   "metadata": {},
   "outputs": [],
   "source": [
    "#  1.Count the number of Salesperson whose name begin with ‘a’/’A’.\n",
    "\n",
    "SELECT COUNT(*) \n",
    "FROM SalesPeople\n",
    "WHERE NAME LIKE 'A%','a'%;\n",
    "\n",
    "# 2.Display all the Salesperson whose all orders worth is more than Rs. 2000.\n",
    "\n",
    "SELECT *\n",
    "  FROM SalesPeople\n",
    "  WHERE order.Onum > 2000;\n",
    "\n",
    "# 3.Count the number of Salesperson belonging to Newyork.\n",
    "\n",
    "SELECT *\n",
    "  FROM SalesPeople\n",
    "  WHERE City = \"Newyork\";\n",
    "  \n",
    "# 4.Display the number of Salespeople belonging to London and belonging to Paris\n",
    "\n",
    "SELECT *\n",
    "  FROM SalesPeople\n",
    "  WHERE City = \"Newyork\" or City=\"Paris\";\n",
    "  \n",
    "# 5.Display the number of orders taken by each Salesperson and their date of orders.\n",
    "\n",
    "SELECT *\n",
    "  FROM orders;"
   ]
  }
 ],
 "metadata": {
  "kernelspec": {
   "display_name": "Python 3 (ipykernel)",
   "language": "python",
   "name": "python3"
  },
  "language_info": {
   "codemirror_mode": {
    "name": "ipython",
    "version": 3
   },
   "file_extension": ".py",
   "mimetype": "text/x-python",
   "name": "python",
   "nbconvert_exporter": "python",
   "pygments_lexer": "ipython3",
   "version": "3.9.12"
  }
 },
 "nbformat": 4,
 "nbformat_minor": 5
}
